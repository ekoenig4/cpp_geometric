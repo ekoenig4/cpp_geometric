{
 "cells": [
  {
   "cell_type": "markdown",
   "metadata": {},
   "source": [
    "# Saving and Loading Graphs using Dataset and Export"
   ]
  },
  {
   "cell_type": "markdown",
   "metadata": {},
   "source": [
    "## Exporting graphs to a text file can be done using the methods defined in TorchUtils.Export"
   ]
  },
  {
   "cell_type": "code",
   "execution_count": 1,
   "metadata": {},
   "outputs": [],
   "source": [
    "# Lets build some random graphs to save to text\n",
    "# we will build 10 fully connected graphs with 5 node features and 2 edge features\n",
    "\n",
    "import numpy as np\n",
    "\n",
    "num_node_features = 5\n",
    "num_edge_features = 2\n",
    "num_graphs = 10\n",
    "\n",
    "nodes = [\n",
    "    np.random.uniform(\n",
    "        0,1,size=(np.random.randint(5,8),num_node_features) # create node features for graphs with random number of nodes\n",
    "    )\n",
    "    for _ in range(num_graphs)\n",
    "]\n",
    "\n",
    "\n",
    "edge_indexes = [\n",
    "    np.array([ [i,j]  for i in range(node.shape[0]) for j in range(i+1,node.shape[0]) ]).T\n",
    "    for node in nodes\n",
    "]\n",
    "\n",
    "edges = [\n",
    "    np.random.uniform(\n",
    "        0,1,size=(edge_index.shape[1],num_edge_features)\n",
    "    )\n",
    "    for edge_index in edge_indexes\n",
    "]"
   ]
  },
  {
   "cell_type": "markdown",
   "metadata": {},
   "source": [
    "Now with some graphs built we can save them directly from these lists"
   ]
  },
  {
   "cell_type": "code",
   "execution_count": 2,
   "metadata": {},
   "outputs": [],
   "source": [
    "from torchUtils import export_nodes,export_edges \n",
    "\n",
    "# Saves the node features to a text file in\n",
    "# outdir/node_shape.txt - saves the shape of each graph node features\n",
    "# outdir/node_x.txt - flattened list of node features\n",
    "export_nodes(nodes,outdir='test_data/') \n",
    "\n",
    "# Saves the edge features to a text file in\n",
    "# outdir/edge_shape.txt - saves the shape of each graph edge features\n",
    "# outdir/edge_attr.txt - flattened list of edge features\n",
    "# If there also edge_indexes, you can pass that as the index kwarg\n",
    "# outdir/edge_index.txt - flattened list of edge indexes\n",
    "export_edges(edges,outdir='test_data/',index=edge_indexes)"
   ]
  },
  {
   "cell_type": "code",
   "execution_count": 4,
   "metadata": {},
   "outputs": [
    {
     "name": "stdout",
     "output_type": "stream",
     "text": [
      "test_data\n",
      "├── edge_attr.txt\n",
      "├── edge_index.txt\n",
      "├── edge_shape.txt\n",
      "├── node_shape.txt\n",
      "└── node_x.txt\n",
      "\n",
      "0 directories, 5 files\n"
     ]
    }
   ],
   "source": [
    "# Looking at the tree structure of the data directory\n",
    "!tree test_data"
   ]
  },
  {
   "cell_type": "markdown",
   "metadata": {},
   "source": [
    "You can also save torch geometric graph data"
   ]
  },
  {
   "cell_type": "code",
   "execution_count": 7,
   "metadata": {},
   "outputs": [],
   "source": [
    "from torch_geometric.data import Data \n",
    "\n",
    "graphs = [ Data(x=x,edge_index=edge_index,edge_attr=edge_attr) for x,edge_index,edge_attr in zip(nodes,edge_indexes,edges) ]\n",
    "\n",
    "from torchUtils import export_graphs \n",
    "\n",
    "export_graphs(graphs,outdir='test_data')"
   ]
  },
  {
   "cell_type": "markdown",
   "metadata": {},
   "source": [
    "Lets say you also want to save different features for the same graphs.\n",
    "\n",
    "You can use tags to differentiate them in the same directory\n",
    "\n",
    "Lets create some new features for our graph"
   ]
  },
  {
   "cell_type": "code",
   "execution_count": 9,
   "metadata": {},
   "outputs": [],
   "source": [
    "# make new features for each node with a shape of 2\n",
    "new_nodes = [\n",
    "    np.random.uniform(\n",
    "        -1,0,size=(node.shape[0],2)\n",
    "    )   \n",
    "    for node in nodes \n",
    "]\n",
    "\n",
    "# make new features for each edge with a shape of 1\n",
    "new_edges = [\n",
    "    np.random.uniform(\n",
    "        -1,0,size=(edge.shape[0],1)\n",
    "    )   \n",
    "    for edge in edges\n",
    "]"
   ]
  },
  {
   "cell_type": "code",
   "execution_count": 10,
   "metadata": {},
   "outputs": [],
   "source": [
    "# this will save these nodes as\n",
    "# outdir/tag_node_x.txt \n",
    "# outdir/tag_node_shape.txt\n",
    "export_nodes(new_nodes,outdir='test_data',tag='new')\n",
    "\n",
    "# similarly for the edges\n",
    "# outdir/tag_edge_attr.txt\n",
    "# outdir/tag_edge_shape.txt\n",
    "export_edges(new_edges,outdir='test_data',tag='new')"
   ]
  },
  {
   "cell_type": "code",
   "execution_count": 11,
   "metadata": {},
   "outputs": [
    {
     "name": "stdout",
     "output_type": "stream",
     "text": [
      "test_data\n",
      "├── edge_attr.txt\n",
      "├── edge_index.txt\n",
      "├── edge_shape.txt\n",
      "├── new_edge_attr.txt\n",
      "├── new_edge_shape.txt\n",
      "├── new_node_shape.txt\n",
      "├── new_node_x.txt\n",
      "├── node_shape.txt\n",
      "└── node_x.txt\n",
      "\n",
      "0 directories, 9 files\n"
     ]
    }
   ],
   "source": [
    "!tree test_data"
   ]
  },
  {
   "cell_type": "markdown",
   "metadata": {},
   "source": [
    "Now that we have features saved to text file, we can load them in using torchUtils.Dataset"
   ]
  },
  {
   "cell_type": "markdown",
   "metadata": {},
   "source": [
    "## Loading graphs with torchUtils.Dataset"
   ]
  },
  {
   "cell_type": "markdown",
   "metadata": {},
   "source": [
    "The Dataset class takes in a root directory that points to the directory containing all the feature text files."
   ]
  },
  {
   "cell_type": "code",
   "execution_count": 12,
   "metadata": {},
   "outputs": [],
   "source": [
    "from torchUtils import Dataset \n",
    "\n",
    "dataset = Dataset('test_data/')"
   ]
  },
  {
   "cell_type": "markdown",
   "metadata": {},
   "source": [
    "It will automatically load graphs using node_x.txt, node_shape.txt, edge_attr.txt, edge_shape.txt, edge_index.txt, and collect them into pytorch geometric Data structures"
   ]
  },
  {
   "cell_type": "code",
   "execution_count": 14,
   "metadata": {},
   "outputs": [
    {
     "data": {
      "text/plain": [
       "Data(x=[6, 5], edge_index=[2, 15], edge_attr=[30, 1])"
      ]
     },
     "execution_count": 14,
     "metadata": {},
     "output_type": "execute_result"
    }
   ],
   "source": [
    "dataset[0]"
   ]
  },
  {
   "cell_type": "markdown",
   "metadata": {},
   "source": [
    "The Dataset class inherits from list, so it can be used just like a python list of graphs. You can load in alternative node and edge features by using the load_extra method"
   ]
  },
  {
   "cell_type": "code",
   "execution_count": 15,
   "metadata": {},
   "outputs": [],
   "source": [
    "dataset.load_extra('new')"
   ]
  },
  {
   "cell_type": "code",
   "execution_count": 16,
   "metadata": {},
   "outputs": [
    {
     "data": {
      "text/plain": [
       "Data(x=[6, 5], edge_index=[2, 15], edge_attr=[30, 1], new_x=[[-0.266, -0.265], [-0.291, -0.416], ... [-0.673, -0.159], [-0.84, -0.416]], new_edge_attr=[-0.915, -0.633, -0.23, -0.823, -0.785, ... -0.781, -0.22, -0.377, -0.186, -0.281])"
      ]
     },
     "execution_count": 16,
     "metadata": {},
     "output_type": "execute_result"
    }
   ],
   "source": [
    "dataset[0]"
   ]
  },
  {
   "cell_type": "markdown",
   "metadata": {},
   "source": [
    "These extra features will be made as a new attribute to each graph in the list"
   ]
  },
  {
   "cell_type": "markdown",
   "metadata": {},
   "source": []
  }
 ],
 "metadata": {
  "interpreter": {
   "hash": "b6b1afae4871be850bc5856e04911167d2a27de500099f683f3fac6532a69ef8"
  },
  "kernelspec": {
   "display_name": "Python 3.8.12 ('torch-gpu')",
   "language": "python",
   "name": "python3"
  },
  "language_info": {
   "codemirror_mode": {
    "name": "ipython",
    "version": 3
   },
   "file_extension": ".py",
   "mimetype": "text/x-python",
   "name": "python",
   "nbconvert_exporter": "python",
   "pygments_lexer": "ipython3",
   "version": "3.8.12"
  },
  "orig_nbformat": 4
 },
 "nbformat": 4,
 "nbformat_minor": 2
}

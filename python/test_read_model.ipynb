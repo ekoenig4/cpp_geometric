{
 "cells": [
  {
   "cell_type": "code",
   "execution_count": 1,
   "metadata": {},
   "outputs": [],
   "source": [
    "%load_ext autoreload\n",
    "%autoreload 2\n",
    "\n",
    "import numpy as np\n",
    "import torch\n",
    "from torch_geometric.data import Data\n",
    "import awkward as ak\n",
    " \n",
    " \n",
    "import torchUtils as gnn"
   ]
  },
  {
   "cell_type": "code",
   "execution_count": 2,
   "metadata": {},
   "outputs": [],
   "source": [
    "d = \"../gnn_model\""
   ]
  },
  {
   "cell_type": "code",
   "execution_count": 3,
   "metadata": {},
   "outputs": [],
   "source": [
    "dataset = gnn.Dataset(\"../data_csv\")"
   ]
  },
  {
   "cell_type": "code",
   "execution_count": 4,
   "metadata": {},
   "outputs": [],
   "source": [
    "dataset.load_extra(\"golden\")"
   ]
  },
  {
   "cell_type": "code",
   "execution_count": 5,
   "metadata": {},
   "outputs": [],
   "source": [
    "model = gnn.GeoModel(\"../gnn_model\")"
   ]
  },
  {
   "cell_type": "code",
   "execution_count": 6,
   "metadata": {},
   "outputs": [
    {
     "name": "stdout",
     "output_type": "stream",
     "text": [
      "Node Error: 0.0\n",
      "Edge Error: 0.0\n"
     ]
    },
    {
     "data": {
      "image/png": "[encoded data removed]",
      "text/plain": [
       "<Figure size 432x288 with 1 Axes>"
      ]
     },
     "metadata": {
      "needs_background": "light"
     },
     "output_type": "display_data"
    }
   ],
   "source": [
    "node_errors = []\n",
    "edge_errors = []\n",
    "\n",
    "for graph in dataset:\n",
    "    with torch.no_grad():\n",
    "        node_o,edge_o = model(graph.x,graph.edge_index,graph.edge_attr)\n",
    "        \n",
    "    node_o,edge_o = node_o.numpy(),edge_o.numpy()\n",
    "    node_t,edge_t = graph.golden_x,graph.golden_edge_attr\n",
    "    \n",
    "    node_errors.append( np.sum((node_t - node_o)**2) )\n",
    "    edge_errors.append( np.sum((edge_t - edge_o)**2) )\n",
    "node_errors = np.array(node_errors)\n",
    "edge_errors = np.array(edge_errors)\n",
    "    \n",
    "print(f\"Node Error: {node_errors.sum()}\")\n",
    "print(f\"Edge Error: {edge_errors.sum()}\")\n",
    "\n",
    "import matplotlib.pyplot as plt \n",
    "\n",
    "plt.hist([node_errors,edge_errors],histtype='step')\n",
    "plt.show()"
   ]
  }
 ],
 "metadata": {
  "interpreter": {
   "hash": "b6b1afae4871be850bc5856e04911167d2a27de500099f683f3fac6532a69ef8"
  },
  "kernelspec": {
   "display_name": "Python 3.8.12 ('torch-gpu')",
   "language": "python",
   "name": "python3"
  },
  "language_info": {
   "codemirror_mode": {
    "name": "ipython",
    "version": 3
   },
   "file_extension": ".py",
   "mimetype": "text/x-python",
   "name": "python",
   "nbconvert_exporter": "python",
   "pygments_lexer": "ipython3",
   "version": "3.8.12"
  },
  "orig_nbformat": 4
 },
 "nbformat": 4,
 "nbformat_minor": 2
}
